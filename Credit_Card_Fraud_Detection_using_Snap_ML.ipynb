{
 "cells": [
  {
   "cell_type": "markdown",
   "metadata": {},
   "source": [
    "## installing SnapMl library\n",
    "\n",
    "##### we are going to use python API which is offered by Snap Machin Learning.\n",
    "##### SnapMl is a hig performance library from IBM.\n",
    "##### It provides highly efficient CPU/GPU implementation of linear model and tree based model.\n",
    "##### Here we are going to use a Decision tree and Support Vector Machine models."
   ]
  },
  {
   "cell_type": "markdown",
   "metadata": {},
   "source": []
  },
  {
   "cell_type": "code",
   "execution_count": 1,
   "id": "30234ed2",
   "metadata": {},
   "outputs": [
    {
     "name": "stdout",
     "output_type": "stream",
     "text": [
      "Requirement already satisfied: snapml in c:\\users\\rsibr\\appdata\\local\\programs\\python\\python311\\lib\\site-packages (1.14.2)\n",
      "Requirement already satisfied: scikit-learn in c:\\users\\rsibr\\appdata\\local\\programs\\python\\python311\\lib\\site-packages (from snapml) (1.3.2)\n",
      "Requirement already satisfied: scipy in c:\\users\\rsibr\\appdata\\local\\programs\\python\\python311\\lib\\site-packages (from snapml) (1.11.3)\n",
      "Requirement already satisfied: numpy>=1.23.2 in c:\\users\\rsibr\\appdata\\local\\programs\\python\\python311\\lib\\site-packages (from snapml) (1.25.2)\n",
      "Requirement already satisfied: joblib>=1.1.1 in c:\\users\\rsibr\\appdata\\local\\programs\\python\\python311\\lib\\site-packages (from scikit-learn->snapml) (1.3.2)\n",
      "Requirement already satisfied: threadpoolctl>=2.0.0 in c:\\users\\rsibr\\appdata\\local\\programs\\python\\python311\\lib\\site-packages (from scikit-learn->snapml) (3.2.0)\n"
     ]
    },
    {
     "name": "stderr",
     "output_type": "stream",
     "text": [
      "\n",
      "[notice] A new release of pip is available: 23.2.1 -> 23.3.1\n",
      "[notice] To update, run: python.exe -m pip install --upgrade pip\n"
     ]
    }
   ],
   "source": [
    "!pip install snapml"
   ]
  },
  {
   "cell_type": "code",
   "execution_count": null,
   "metadata": {},
   "outputs": [],
   "source": []
  }
 ],
 "metadata": {
  "kernelspec": {
   "display_name": "Python 3 (ipykernel)",
   "language": "python",
   "name": "python3"
  },
  "language_info": {
   "codemirror_mode": {
    "name": "ipython",
    "version": 3
   },
   "file_extension": ".py",
   "mimetype": "text/x-python",
   "name": "python",
   "nbconvert_exporter": "python",
   "pygments_lexer": "ipython3",
   "version": "3.11.5"
  }
 },
 "nbformat": 4,
 "nbformat_minor": 5
}
