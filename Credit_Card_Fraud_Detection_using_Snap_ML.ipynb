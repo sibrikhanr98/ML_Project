{
 "cells": [
  {
   "cell_type": "markdown",
   "metadata": {},
   "source": [
    "### installing SnapMl library\n",
    "\n",
    "##### we are going to use python API which is offered by Snap Machin Learning. SnapMl is a hig performance library from IBM. It provides highly efficient CPU/GPU implementation of linear model and tree based model. Here we are going to use a Decision tree and Support Vector Machine models."
   ]
  },
  {
   "cell_type": "markdown",
   "metadata": {},
   "source": [
    "### About the data set\n",
    "\n",
    "##### For this detection i am going to use the real data set and which is includes information about transactions made by credit cards in September 2013 by European cardholders"
   ]
  },
  {
   "cell_type": "code",
   "execution_count": 1,
   "id": "30234ed2",
   "metadata": {},
   "outputs": [
    {
     "name": "stdout",
     "output_type": "stream",
     "text": [
      "Requirement already satisfied: snapml in c:\\users\\rsibr\\appdata\\local\\programs\\python\\python311\\lib\\site-packages (1.14.2)\n",
      "Requirement already satisfied: scikit-learn in c:\\users\\rsibr\\appdata\\local\\programs\\python\\python311\\lib\\site-packages (from snapml) (1.3.2)\n",
      "Requirement already satisfied: scipy in c:\\users\\rsibr\\appdata\\local\\programs\\python\\python311\\lib\\site-packages (from snapml) (1.11.3)\n",
      "Requirement already satisfied: numpy>=1.23.2 in c:\\users\\rsibr\\appdata\\local\\programs\\python\\python311\\lib\\site-packages (from snapml) (1.25.2)\n",
      "Requirement already satisfied: joblib>=1.1.1 in c:\\users\\rsibr\\appdata\\local\\programs\\python\\python311\\lib\\site-packages (from scikit-learn->snapml) (1.3.2)\n",
      "Requirement already satisfied: threadpoolctl>=2.0.0 in c:\\users\\rsibr\\appdata\\local\\programs\\python\\python311\\lib\\site-packages (from scikit-learn->snapml) (3.2.0)\n"
     ]
    },
    {
     "name": "stderr",
     "output_type": "stream",
     "text": [
      "\n",
      "[notice] A new release of pip is available: 23.2.1 -> 23.3.1\n",
      "[notice] To update, run: python.exe -m pip install --upgrade pip\n"
     ]
    }
   ],
   "source": [
    "%pip install snapml"
   ]
  },
  {
   "cell_type": "markdown",
   "metadata": {},
   "source": [
    "### Import the needed libraries"
   ]
  },
  {
   "cell_type": "code",
   "execution_count": 5,
   "metadata": {},
   "outputs": [],
   "source": [
    "import pandas as pd # To work with DataFrame and open the file\n",
    "import numpy as np # For a Array level calculation or working with array\n",
    "import matplotlib.pyplot as plt # Visualize the results\n",
    "from sklearn.model_selection import train_test_split as tts# use to split the training set and train the model\n",
    "from sklearn.preprocessing import StandardScaler as sds,normalize as norm # Use to preprocess the raw data and eliminate the unwanted datas\n",
    "from sklearn.utils.class_weight import compute_class_weight as ccw # Used to handel the imbalanced data\n",
    "from sklearn.metrics import roc_auc_score as ras # a popular metric for evaluating the performance of classification models, \n",
    "# particularly in binary classification tasks."
   ]
  },
  {
   "cell_type": "markdown",
   "metadata": {},
   "source": [
    "### Read the dataset using pandas library"
   ]
  },
  {
   "cell_type": "code",
   "execution_count": 8,
   "metadata": {},
   "outputs": [
    {
     "data": {
      "text/plain": [
       "(284807, 31)"
      ]
     },
     "execution_count": 8,
     "metadata": {},
     "output_type": "execute_result"
    }
   ],
   "source": [
    "cc_dataset = pd.read_csv(\"creditcard.csv\") \n",
    "cc_dataset.head() # Print the first 5 rows from the dataset\n",
    "cc_dataset.shape # check the raws and columns (diamention)"
   ]
  },
  {
   "cell_type": "code",
   "execution_count": null,
   "metadata": {},
   "outputs": [],
   "source": []
  }
 ],
 "metadata": {
  "kernelspec": {
   "display_name": "Python 3 (ipykernel)",
   "language": "python",
   "name": "python3"
  },
  "language_info": {
   "codemirror_mode": {
    "name": "ipython",
    "version": 3
   },
   "file_extension": ".py",
   "mimetype": "text/x-python",
   "name": "python",
   "nbconvert_exporter": "python",
   "pygments_lexer": "ipython3",
   "version": "3.11.5"
  }
 },
 "nbformat": 4,
 "nbformat_minor": 5
}
