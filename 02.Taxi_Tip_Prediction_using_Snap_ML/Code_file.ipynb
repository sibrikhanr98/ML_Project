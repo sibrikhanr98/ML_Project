{
 "cells": [
  {
   "cell_type": "markdown",
   "metadata": {},
   "source": [
    "#### I'm currently working on a project utilizing a Decision Tree Regressor to predict taxi tips. The dataset I'm using is publicly available, sourced from the official NYC government website. This dataset contains valuable information about taxi tips and was collected and provided to the NYC Taxi and Limousine Commission (TLC) by authorized technology providers under the Taxicab & Livery Passenger Enhancement Programs (TPEP/LPEP). Due to its size, the data is stored in Parquet format, and I'm leveraging the PyArrow library to efficiently access and analyze this data."
   ]
  },
  {
   "cell_type": "markdown",
   "metadata": {},
   "source": [
    "#### Finaly i will check with sklearn and snapml libraries to compare the performance"
   ]
  },
  {
   "cell_type": "code",
   "execution_count": 96,
   "metadata": {},
   "outputs": [],
   "source": [
    "# install pyarrow library\n",
    "# !pip install pyarrow  \n",
    "\n",
    "import pyarrow.parquet as pq  # import the parquet instance to open the parquet file\n",
    "raw_data= pq.read_table('yellow_tripdata_2023-09 .parquet') # use .read_table() function to open the parquet file\n",
    "raw_data = raw_data.to_pandas() "
   ]
  },
  {
   "cell_type": "markdown",
   "metadata": {},
   "source": [
    "#### Each row in the dataset represents a taxi trip. As shown above, each row has 18 variables. One variable is called tip_amount and represents the target variable and that is what I am going to predict."
   ]
  },
  {
   "cell_type": "code",
   "execution_count": 97,
   "metadata": {},
   "outputs": [
    {
     "data": {
      "text/plain": [
       "(2846722, 19)"
      ]
     },
     "execution_count": 97,
     "metadata": {},
     "output_type": "execute_result"
    }
   ],
   "source": [
    "raw_data.shape # Check the size of the dataset"
   ]
  },
  {
   "cell_type": "code",
   "execution_count": 99,
   "metadata": {},
   "outputs": [],
   "source": [
    "# reduced the size of the dataset\n",
    "raw_data=raw_data.head(100000)"
   ]
  },
  {
   "cell_type": "markdown",
   "metadata": {},
   "source": [
    "### Importing libraries"
   ]
  },
  {
   "cell_type": "code",
   "execution_count": 147,
   "metadata": {},
   "outputs": [],
   "source": [
    "import pandas as pd\n",
    "import numpy as np\n",
    "import matplotlib.pyplot as plt\n",
    "from sklearn.preprocessing import normalize\n",
    "from sklearn.model_selection import train_test_split as tts\n",
    "from sklearn.tree import DecisionTreeRegressor as dtr\n",
    "from sklearn.metrics import roc_auc_score as ras\n",
    "from snapml import DecisionTreeRegressor as dtrs\n",
    "from sklearn.metrics import mean_squared_error as mse\n",
    "import gc\n",
    "import time\n",
    " # to get the time"
   ]
  },
  {
   "cell_type": "markdown",
   "metadata": {},
   "source": [
    "### Data Cleaning"
   ]
  },
  {
   "cell_type": "code",
   "execution_count": 101,
   "metadata": {},
   "outputs": [
    {
     "name": "stdout",
     "output_type": "stream",
     "text": [
      "6005\n"
     ]
    }
   ],
   "source": [
    "# If the tip ammunt 0 then it means the tip has been paid in cash so eliminate those rows\n",
    "raw_data=raw_data[raw_data[\"tip_amount\"] > 0] \n",
    "\n",
    "# If the tip amount is larger than the fare cost then eliminate those rows\n",
    "raw_data = raw_data[raw_data[\"tip_amount\"] <= raw_data[\"fare_amount\"]]\n",
    "\n",
    "# Eliminate the rows which has the large fare_cost\n",
    "raw_data = raw_data[((raw_data[\"fare_amount\"] >= 2) & (raw_data[\"fare_amount\"] < 200))]\n",
    "\n",
    "# Total_amount column include the tip amount so eliminate the total_amount column\n",
    "clean_data = raw_data.drop([\"total_amount\"],axis=1)\n",
    "\n",
    "# here there are two tables that are raw_data and clean_data it will occupied the memry space\n",
    "# so just remove the raw_data table to avoid the memory out of bond \n",
    "\n",
    "del raw_data \n",
    "\n",
    "# To reclaim the memory that is no longer in use by the programe so\n",
    "# we manually call the python's garbage collection process manually\n",
    "# and we are working with large datasets that generate lots of temporary objects\n",
    "# we did manualy calling because python's garbage collector might not immediately release\n",
    "# memory even after object are no longer needed\n",
    "## forcing the garbage collector to run and freeup the memory that is no longer used\n",
    "\n",
    "print(gc.collect())\n",
    "\n",
    "##"
   ]
  },
  {
   "cell_type": "markdown",
   "metadata": {},
   "source": [
    "### Retrive some statistics about the target variable"
   ]
  },
  {
   "cell_type": "code",
   "execution_count": 102,
   "metadata": {},
   "outputs": [
    {
     "name": "stdout",
     "output_type": "stream",
     "text": [
      "Minimum tip amount is : 0.01\n",
      "Maximum tip amount is : 80.0\n",
      "90% of the trips have a tip less or equal than : 10.79\n"
     ]
    }
   ],
   "source": [
    "print(f\"Minimum tip amount is : {np.min(clean_data.tip_amount.values)}\")\n",
    "print(f\"Maximum tip amount is : {np.max(clean_data.tip_amount.values)}\")\n",
    "\n",
    "# using .percentile() function to fine the percentile of the data here 90\n",
    "print(f\"90% of the trips have a tip less or equal than : {np.percentile(clean_data.tip_amount.values,90)}\")\n",
    "\n"
   ]
  },
  {
   "cell_type": "code",
   "execution_count": 103,
   "metadata": {},
   "outputs": [
    {
     "data": {
      "image/png": "[encoded data removed]",
      "text/plain": [
       "<Figure size 640x480 with 1 Axes>"
      ]
     },
     "metadata": {},
     "output_type": "display_data"
    }
   ],
   "source": [
    "plt.hist(clean_data.tip_amount,16,histtype='bar'); # matplotlib is internally handels the conversion the column in the dataset to an array\n",
    "                                # or suitable formate to ploting\n",
    "                                \n",
    "# Matplotlib has its own internal mechanisms to handle the visualization of data without altering the original dataset.\n",
    "\n",
    "# plt.hist(clean_data.tip_amount.values)"
   ]
  },
  {
   "cell_type": "markdown",
   "metadata": {},
   "source": [
    "### Preprocessing"
   ]
  },
  {
   "cell_type": "markdown",
   "metadata": {},
   "source": [
    "#### In the data set there are 2 columns named as tpep_pickup_datetime and tpep_dropoff_datetime it contains date and time so lets extract date and time seperatly from those columns to easier manipulation and extraction of specific date or time components."
   ]
  },
  {
   "cell_type": "code",
   "execution_count": 104,
   "metadata": {},
   "outputs": [],
   "source": [
    "# We change the formate to datetime formate\n",
    "clean_data[\"tpep_pickup_datetime\"] = pd.to_datetime(clean_data[\"tpep_pickup_datetime\"])\n",
    "clean_data[\"tpep_dropoff_datetime\"] = pd.to_datetime(clean_data[\"tpep_dropoff_datetime\"])\n",
    "\n",
    "# extract the time \n",
    "clean_data[\"pickup_hour\"]=clean_data[\"tpep_pickup_datetime\"].dt.hour\n",
    "clean_data[\"dropoff_hour\"]=clean_data[\"tpep_dropoff_datetime\"].dt.hour\n",
    "\n",
    "# extract the day of week\n",
    "clean_data[\"pickup_day\"]=clean_data[\"tpep_pickup_datetime\"].dt.weekday\n",
    "clean_data[\"dropoff_day\"]=clean_data[\"tpep_dropoff_datetime\"].dt.weekday\n",
    "\n",
    "## compute the trip time in minutes\n",
    "\n",
    "# calculate the trip time\n",
    "clean_data[\"trip_time\"]=clean_data[\"tpep_dropoff_datetime\"]-clean_data[\"tpep_dropoff_datetime\"]\n",
    "# convert it into minutes pd.Timedelta(minutes=1) used here to covert explicitly\n",
    "clean_data[\"trip_time\"]=clean_data[\"trip_time\"]/pd.Timedelta(minutes=1)\n",
    "\n",
    "# Now we got the date and Time seperatly so lets eliminate the columns which has the date and time ones\n",
    "\n",
    "clean_data=clean_data.drop([\"tpep_pickup_datetime\",\"tpep_dropoff_datetime\"],axis=1)\n"
   ]
  },
  {
   "cell_type": "markdown",
   "metadata": {},
   "source": [
    "#### In the clean_data some columns are in the categorical formate to change this into numerical formate (to work with sklearn library) we use the one-hot encoder method from pandas library which will convert and creates binary columns for each category in a categorical feature, where each column represents a single category and contains a 1 if the sample belongs to that category and 0 otherwise"
   ]
  },
  {
   "cell_type": "code",
   "execution_count": 105,
   "metadata": {},
   "outputs": [
    {
     "data": {
      "text/plain": [
       "45"
      ]
     },
     "execution_count": 105,
     "metadata": {},
     "output_type": "execute_result"
    }
   ],
   "source": [
    "# Retrive the categorical variables\n",
    "dummy_columns = [\"VendorID\",\"RatecodeID\",\"store_and_fwd_flag\",\"PULocationID\", \"DOLocationID\",\"payment_type\", \"pickup_hour\", \"dropoff_hour\", \"pickup_day\", \"dropoff_day\"]\n",
    "proc_data = pd.get_dummies(clean_data,columns = dummy_columns)\n",
    "\n",
    "del clean_data\n",
    "gc.collect()"
   ]
  },
  {
   "cell_type": "code",
   "execution_count": 106,
   "metadata": {},
   "outputs": [
    {
     "data": {
      "text/html": [
       "<div>\n",
       "<style scoped>\n",
       "    .dataframe tbody tr th:only-of-type {\n",
       "        vertical-align: middle;\n",
       "    }\n",
       "\n",
       "    .dataframe tbody tr th {\n",
       "        vertical-align: top;\n",
       "    }\n",
       "\n",
       "    .dataframe thead th {\n",
       "        text-align: right;\n",
       "    }\n",
       "</style>\n",
       "<table border=\"1\" class=\"dataframe\">\n",
       "  <thead>\n",
       "    <tr style=\"text-align: right;\">\n",
       "      <th></th>\n",
       "      <th>passenger_count</th>\n",
       "      <th>trip_distance</th>\n",
       "      <th>fare_amount</th>\n",
       "      <th>extra</th>\n",
       "      <th>mta_tax</th>\n",
       "      <th>tip_amount</th>\n",
       "      <th>tolls_amount</th>\n",
       "      <th>improvement_surcharge</th>\n",
       "      <th>congestion_surcharge</th>\n",
       "      <th>Airport_fee</th>\n",
       "      <th>...</th>\n",
       "      <th>dropoff_hour_23</th>\n",
       "      <th>pickup_day_2</th>\n",
       "      <th>pickup_day_3</th>\n",
       "      <th>pickup_day_4</th>\n",
       "      <th>pickup_day_5</th>\n",
       "      <th>dropoff_day_2</th>\n",
       "      <th>dropoff_day_3</th>\n",
       "      <th>dropoff_day_4</th>\n",
       "      <th>dropoff_day_5</th>\n",
       "      <th>dropoff_day_6</th>\n",
       "    </tr>\n",
       "  </thead>\n",
       "  <tbody>\n",
       "    <tr>\n",
       "      <th>1</th>\n",
       "      <td>2.0</td>\n",
       "      <td>2.34</td>\n",
       "      <td>14.2</td>\n",
       "      <td>1.0</td>\n",
       "      <td>0.5</td>\n",
       "      <td>2.00</td>\n",
       "      <td>0.0</td>\n",
       "      <td>1.0</td>\n",
       "      <td>2.5</td>\n",
       "      <td>0.00</td>\n",
       "      <td>...</td>\n",
       "      <td>False</td>\n",
       "      <td>False</td>\n",
       "      <td>False</td>\n",
       "      <td>True</td>\n",
       "      <td>False</td>\n",
       "      <td>False</td>\n",
       "      <td>False</td>\n",
       "      <td>True</td>\n",
       "      <td>False</td>\n",
       "      <td>False</td>\n",
       "    </tr>\n",
       "    <tr>\n",
       "      <th>2</th>\n",
       "      <td>1.0</td>\n",
       "      <td>1.62</td>\n",
       "      <td>8.6</td>\n",
       "      <td>1.0</td>\n",
       "      <td>0.5</td>\n",
       "      <td>2.00</td>\n",
       "      <td>0.0</td>\n",
       "      <td>1.0</td>\n",
       "      <td>2.5</td>\n",
       "      <td>0.00</td>\n",
       "      <td>...</td>\n",
       "      <td>False</td>\n",
       "      <td>False</td>\n",
       "      <td>False</td>\n",
       "      <td>True</td>\n",
       "      <td>False</td>\n",
       "      <td>False</td>\n",
       "      <td>False</td>\n",
       "      <td>True</td>\n",
       "      <td>False</td>\n",
       "      <td>False</td>\n",
       "    </tr>\n",
       "    <tr>\n",
       "      <th>3</th>\n",
       "      <td>1.0</td>\n",
       "      <td>0.74</td>\n",
       "      <td>5.1</td>\n",
       "      <td>1.0</td>\n",
       "      <td>0.5</td>\n",
       "      <td>1.00</td>\n",
       "      <td>0.0</td>\n",
       "      <td>1.0</td>\n",
       "      <td>2.5</td>\n",
       "      <td>0.00</td>\n",
       "      <td>...</td>\n",
       "      <td>False</td>\n",
       "      <td>False</td>\n",
       "      <td>False</td>\n",
       "      <td>True</td>\n",
       "      <td>False</td>\n",
       "      <td>False</td>\n",
       "      <td>False</td>\n",
       "      <td>True</td>\n",
       "      <td>False</td>\n",
       "      <td>False</td>\n",
       "    </tr>\n",
       "    <tr>\n",
       "      <th>4</th>\n",
       "      <td>1.0</td>\n",
       "      <td>9.85</td>\n",
       "      <td>45.0</td>\n",
       "      <td>6.0</td>\n",
       "      <td>0.5</td>\n",
       "      <td>17.02</td>\n",
       "      <td>0.0</td>\n",
       "      <td>1.0</td>\n",
       "      <td>2.5</td>\n",
       "      <td>1.75</td>\n",
       "      <td>...</td>\n",
       "      <td>False</td>\n",
       "      <td>False</td>\n",
       "      <td>False</td>\n",
       "      <td>True</td>\n",
       "      <td>False</td>\n",
       "      <td>False</td>\n",
       "      <td>False</td>\n",
       "      <td>True</td>\n",
       "      <td>False</td>\n",
       "      <td>False</td>\n",
       "    </tr>\n",
       "    <tr>\n",
       "      <th>6</th>\n",
       "      <td>0.0</td>\n",
       "      <td>10.90</td>\n",
       "      <td>41.5</td>\n",
       "      <td>1.0</td>\n",
       "      <td>0.5</td>\n",
       "      <td>3.00</td>\n",
       "      <td>0.0</td>\n",
       "      <td>1.0</td>\n",
       "      <td>0.0</td>\n",
       "      <td>0.00</td>\n",
       "      <td>...</td>\n",
       "      <td>False</td>\n",
       "      <td>False</td>\n",
       "      <td>False</td>\n",
       "      <td>True</td>\n",
       "      <td>False</td>\n",
       "      <td>False</td>\n",
       "      <td>False</td>\n",
       "      <td>True</td>\n",
       "      <td>False</td>\n",
       "      <td>False</td>\n",
       "    </tr>\n",
       "  </tbody>\n",
       "</table>\n",
       "<p>5 rows × 474 columns</p>\n",
       "</div>"
      ],
      "text/plain": [
       "   passenger_count  trip_distance  fare_amount  extra  mta_tax  tip_amount  \\\n",
       "1              2.0           2.34         14.2    1.0      0.5        2.00   \n",
       "2              1.0           1.62          8.6    1.0      0.5        2.00   \n",
       "3              1.0           0.74          5.1    1.0      0.5        1.00   \n",
       "4              1.0           9.85         45.0    6.0      0.5       17.02   \n",
       "6              0.0          10.90         41.5    1.0      0.5        3.00   \n",
       "\n",
       "   tolls_amount  improvement_surcharge  congestion_surcharge  Airport_fee  \\\n",
       "1           0.0                    1.0                   2.5         0.00   \n",
       "2           0.0                    1.0                   2.5         0.00   \n",
       "3           0.0                    1.0                   2.5         0.00   \n",
       "4           0.0                    1.0                   2.5         1.75   \n",
       "6           0.0                    1.0                   0.0         0.00   \n",
       "\n",
       "   ...  dropoff_hour_23  pickup_day_2  pickup_day_3  pickup_day_4  \\\n",
       "1  ...            False         False         False          True   \n",
       "2  ...            False         False         False          True   \n",
       "3  ...            False         False         False          True   \n",
       "4  ...            False         False         False          True   \n",
       "6  ...            False         False         False          True   \n",
       "\n",
       "   pickup_day_5  dropoff_day_2  dropoff_day_3  dropoff_day_4  dropoff_day_5  \\\n",
       "1         False          False          False           True          False   \n",
       "2         False          False          False           True          False   \n",
       "3         False          False          False           True          False   \n",
       "4         False          False          False           True          False   \n",
       "6         False          False          False           True          False   \n",
       "\n",
       "   dropoff_day_6  \n",
       "1          False  \n",
       "2          False  \n",
       "3          False  \n",
       "4          False  \n",
       "6          False  \n",
       "\n",
       "[5 rows x 474 columns]"
      ]
     },
     "execution_count": 106,
     "metadata": {},
     "output_type": "execute_result"
    }
   ],
   "source": [
    "proc_data.head()"
   ]
  },
  {
   "cell_type": "markdown",
   "metadata": {},
   "source": [
    "#### Get the feature set(X) and target variable(Y)"
   ]
  },
  {
   "cell_type": "code",
   "execution_count": 107,
   "metadata": {},
   "outputs": [],
   "source": [
    "first_n_rows = 1000000\n",
    "proc_data = proc_data.head(first_n_rows)"
   ]
  },
  {
   "cell_type": "code",
   "execution_count": 140,
   "metadata": {},
   "outputs": [],
   "source": [
    "Y = proc_data[\"tip_amount\"]\n",
    "proc_data = proc_data.drop([\"tip_amount\"],axis=1)\n",
    "Y=Y.values"
   ]
  },
  {
   "cell_type": "code",
   "execution_count": 112,
   "metadata": {},
   "outputs": [],
   "source": [
    "X = proc_data.values"
   ]
  },
  {
   "cell_type": "code",
   "execution_count": 120,
   "metadata": {},
   "outputs": [],
   "source": [
    "X = normalize(X,norm='l1',axis=1,copy= False)\n",
    "# it will do Along each row, the values are divided by the sum of absolute values in that row.\n",
    "# fThis normalization technique ensures that each row's values sum up to 1, \n",
    "# making it a row-wise probability distribution or representing proportions within each row."
   ]
  },
  {
   "cell_type": "markdown",
   "metadata": {},
   "source": [
    "#### Split the data for test and train"
   ]
  },
  {
   "cell_type": "code",
   "execution_count": 158,
   "metadata": {},
   "outputs": [],
   "source": [
    "x_train,x_test,y_train,y_test=tts(X,Y,test_size=0.2,random_state=42)\n",
    "# tts means train_test_split"
   ]
  },
  {
   "cell_type": "markdown",
   "metadata": {},
   "source": [
    "### Train a model using sklearn Library"
   ]
  },
  {
   "cell_type": "code",
   "execution_count": 159,
   "metadata": {},
   "outputs": [
    {
     "name": "stdout",
     "output_type": "stream",
     "text": [
      "[Scikit-Learn] Training time (s):  8.44945\n"
     ]
    }
   ],
   "source": [
    "sklearn_model = dtr(max_depth=8,random_state=35)\n",
    "\n",
    "t0 = time.time()\n",
    "sklearn_model.fit(x_train,y_train)\n",
    "sklearn_time= time.time()-t0\n",
    "print(\"[Scikit-Learn] Training time (s):  {0:.5f}\".format(sklearn_time))\n",
    "\n"
   ]
  },
  {
   "cell_type": "markdown",
   "metadata": {},
   "source": [
    "### Train a model using snapml library"
   ]
  },
  {
   "cell_type": "code",
   "execution_count": 160,
   "metadata": {},
   "outputs": [
    {
     "name": "stdout",
     "output_type": "stream",
     "text": [
      "[Scikit-Learn] Training time (s):  2.58541\n"
     ]
    }
   ],
   "source": [
    "snapml_model = dtrs(max_depth=8, random_state=45, n_jobs=4)\n",
    "\n",
    "t0 = time.time()\n",
    "snapml_model.fit(x_train,y_train)\n",
    "snapml_time= time.time()-t0\n",
    "print(\"[Scikit-Learn] Training time (s):  {0:.5f}\".format(snapml_time))"
   ]
  },
  {
   "cell_type": "markdown",
   "metadata": {},
   "source": [
    "### Evaluate the Scikit-Learn and Snap ML Decision Tree Regressor Models"
   ]
  },
  {
   "cell_type": "code",
   "execution_count": 161,
   "metadata": {},
   "outputs": [
    {
     "name": "stdout",
     "output_type": "stream",
     "text": [
      "[Decision Tree Regressor] Snap ML vs. Scikit-Learn speedup : 3.27x \n"
     ]
    }
   ],
   "source": [
    "training_speedup = sklearn_time/snapml_time\n",
    "print('[Decision Tree Regressor] Snap ML vs. Scikit-Learn speedup : {0:.2f}x '.format(training_speedup))\n"
   ]
  },
  {
   "cell_type": "code",
   "execution_count": 162,
   "metadata": {},
   "outputs": [
    {
     "name": "stdout",
     "output_type": "stream",
     "text": [
      "[Scikit-Learn] MSE score : 4.889\n"
     ]
    }
   ],
   "source": [
    "### Sklearn\n",
    "sklearn_pred = sklearn_model.predict(x_test)\n",
    "sklearn_mse = mse(y_test, sklearn_pred)\n",
    "print('[Scikit-Learn] MSE score : {0:.3f}'.format(sklearn_mse))"
   ]
  },
  {
   "cell_type": "code",
   "execution_count": 163,
   "metadata": {},
   "outputs": [
    {
     "name": "stdout",
     "output_type": "stream",
     "text": [
      "[Snap ML] MSE score : 4.817\n"
     ]
    }
   ],
   "source": [
    "### snapml\n",
    "snapml_pred = snapml_model.predict(x_test)\n",
    "snapml_mse = mse(y_test, snapml_pred)\n",
    "print('[Snap ML] MSE score : {0:.3f}'.format(snapml_mse))"
   ]
  },
  {
   "cell_type": "code",
   "execution_count": null,
   "metadata": {},
   "outputs": [],
   "source": []
  },
  {
   "cell_type": "code",
   "execution_count": null,
   "metadata": {},
   "outputs": [],
   "source": []
  }
 ],
 "metadata": {
  "kernelspec": {
   "display_name": "Python 3",
   "language": "python",
   "name": "python3"
  },
  "language_info": {
   "codemirror_mode": {
    "name": "ipython",
    "version": 3
   },
   "file_extension": ".py",
   "mimetype": "text/x-python",
   "name": "python",
   "nbconvert_exporter": "python",
   "pygments_lexer": "ipython3",
   "version": "3.11.5"
  }
 },
 "nbformat": 4,
 "nbformat_minor": 2
}
